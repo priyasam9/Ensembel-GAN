{
 "cells": [
  {
   "cell_type": "markdown",
   "metadata": {},
   "source": [
    "# GAIN with Weight Sharing"
   ]
  },
  {
   "cell_type": "markdown",
   "metadata": {},
   "source": [
    "## Preparation"
   ]
  },
  {
   "cell_type": "code",
   "execution_count": 1,
   "metadata": {
    "scrolled": true
   },
   "outputs": [],
   "source": [
    "import tensorflow as tf\n",
    "import numpy as np\n",
    "from tqdm import tqdm\n",
    "import matplotlib\n",
    "import matplotlib.pyplot as plt\n",
    "%matplotlib inline"
   ]
  },
  {
   "cell_type": "code",
   "execution_count": 2,
   "metadata": {},
   "outputs": [],
   "source": [
    "# Data generation\n",
    "raw_data = np.loadtxt(\"https://raw.githubusercontent.com/jsyoon0823/GAIN/master/Letter.csv\", delimiter=\",\",skiprows=1)"
   ]
  },
  {
   "cell_type": "code",
   "execution_count": 3,
   "metadata": {},
   "outputs": [
    {
     "name": "stdout",
     "output_type": "stream",
     "text": [
      "Split data into 4 subsets. Size of one subset: 5000\n"
     ]
    }
   ],
   "source": [
    "# Split Data into four pieces\n",
    "full_size = len(raw_data)\n",
    "n_subsets = 4\n",
    "sub_size = full_size // n_subsets\n",
    "\n",
    "subsets = []\n",
    "for k in range(4):\n",
    "    subsets.append(raw_data[k*sub_size:(k+1)*sub_size, k:k+13])\n",
    "    \n",
    "print(\"Split data into\", n_subsets, \"subsets. Size of one subset:\", sub_size)"
   ]
  },
  {
   "cell_type": "markdown",
   "metadata": {},
   "source": [
    "## Initial Step: Build GAIN on the first subset"
   ]
  },
  {
   "cell_type": "code",
   "execution_count": 4,
   "metadata": {},
   "outputs": [],
   "source": [
    "# Apply GAIN on the first dataset\n",
    "Data = subsets[0]\n",
    "# Data = raw_data"
   ]
  },
  {
   "cell_type": "code",
   "execution_count": 5,
   "metadata": {},
   "outputs": [
    {
     "name": "stdout",
     "output_type": "stream",
     "text": [
      "13\n"
     ]
    }
   ],
   "source": [
    "#%% System Parameters\n",
    "# 1. Mini batch size\n",
    "mb_size = 128\n",
    "# 2. Missing rate\n",
    "p_miss = 0.2\n",
    "# 3. Hint rate\n",
    "p_hint = 0.9\n",
    "# 4. Loss Hyperparameters\n",
    "alpha = 10\n",
    "# 5. Train Rate\n",
    "train_rate = 0.8\n",
    "\n",
    "# Parameters\n",
    "No = len(Data)\n",
    "Dim = len(Data[0,:])\n",
    "\n",
    "# Hidden state dimensions\n",
    "H_Dim1 = Dim\n",
    "H_Dim2 = Dim\n",
    "\n",
    "print(Dim)"
   ]
  },
  {
   "cell_type": "code",
   "execution_count": 6,
   "metadata": {},
   "outputs": [],
   "source": [
    "# Normalization (0 to 1)\n",
    "Min_Val = np.zeros(Dim)\n",
    "Max_Val = np.zeros(Dim)\n",
    "\n",
    "for i in range(Dim):\n",
    "    Min_Val[i] = np.min(Data[:,i])\n",
    "    Data[:,i] = Data[:,i] - np.min(Data[:,i])\n",
    "    Max_Val[i] = np.max(Data[:,i])\n",
    "    Data[:,i] = Data[:,i] / (np.max(Data[:,i]) + 1e-6)    \n",
    "\n",
    "#%% Missing introducing\n",
    "p_miss_vec = p_miss * np.ones((Dim,1)) \n",
    "   \n",
    "Missing = np.zeros((No,Dim))\n",
    "\n",
    "for i in range(Dim):\n",
    "    A = np.random.uniform(0., 1., size = [len(Data),])\n",
    "    B = A > p_miss_vec[i]\n",
    "    Missing[:,i] = 1.*B"
   ]
  },
  {
   "cell_type": "code",
   "execution_count": 7,
   "metadata": {},
   "outputs": [],
   "source": [
    "#%% Train Test Division    \n",
    "   \n",
    "idx = np.random.permutation(No)\n",
    "\n",
    "Train_No = int(No * train_rate)\n",
    "Test_No = No - Train_No\n",
    "    \n",
    "# Train / Test Features\n",
    "trainX = Data[idx[:Train_No],:]\n",
    "testX = Data[idx[Train_No:],:]\n",
    "\n",
    "# Train / Test Missing Indicators\n",
    "trainM = Missing[idx[:Train_No],:]\n",
    "testM = Missing[idx[Train_No:],:]"
   ]
  },
  {
   "cell_type": "code",
   "execution_count": 8,
   "metadata": {},
   "outputs": [],
   "source": [
    "#%% Necessary Functions\n",
    "\n",
    "# 1. Xavier Initialization Definition\n",
    "def xavier_init(size):\n",
    "    in_dim = size[0]\n",
    "    xavier_stddev = 1. / tf.sqrt(in_dim / 2.)\n",
    "    return tf.random_normal(shape = size, stddev = xavier_stddev)\n",
    "    \n",
    "# Hint Vector Generation\n",
    "def sample_M(m, n, p):\n",
    "    A = np.random.uniform(0., 1., size = [m, n])\n",
    "    B = A > p\n",
    "    C = 1.*B\n",
    "    return C"
   ]
  },
  {
   "cell_type": "markdown",
   "metadata": {},
   "source": [
    "## GAIN Model\n",
    "- Generator\n",
    "- Discriminator\n",
    "- Hint Mechanism"
   ]
  },
  {
   "cell_type": "code",
   "execution_count": 9,
   "metadata": {},
   "outputs": [],
   "source": [
    "#%% GAIN Architecture   \n",
    "   \n",
    "#%% 1. Input Placeholders\n",
    "# 1.1. Data Vector\n",
    "X = tf.placeholder(tf.float32, shape = [None, Dim])\n",
    "# 1.2. Mask Vector \n",
    "M = tf.placeholder(tf.float32, shape = [None, Dim])\n",
    "# 1.3. Hint vector\n",
    "H = tf.placeholder(tf.float32, shape = [None, Dim])\n",
    "# 1.4. X with missing values\n",
    "New_X = tf.placeholder(tf.float32, shape = [None, Dim])"
   ]
  },
  {
   "cell_type": "code",
   "execution_count": 10,
   "metadata": {},
   "outputs": [],
   "source": [
    "#%% 2. Discriminator\n",
    "D_W1 = tf.Variable(xavier_init([Dim*2, H_Dim1]), name=\"D_W1\")     # Data + Hint as inputs\n",
    "D_b1 = tf.Variable(tf.zeros(shape = [H_Dim1]), name=\"D_b1\")\n",
    "\n",
    "#D_W2 = tf.Variable(xavier_init([H_Dim1, H_Dim2]), name=\"D_W2\")\n",
    "D_W2 = tf.Variable(xavier_init([13, 13]), name=\"D_W2\")\n",
    "#D_b2 = tf.Variable(tf.zeros(shape = [H_Dim2]), name=\"D_b2\")\n",
    "D_b2 = tf.Variable(tf.zeros(shape = [13]), name=\"D_b2\")\n",
    "\n",
    "#D_W3 = tf.Variable(xavier_init([H_Dim2, Dim]), name=\"D_W3\")\n",
    "D_W3 = tf.Variable(xavier_init([13, Dim]), name=\"D_W3\")\n",
    "D_b3 = tf.Variable(tf.zeros(shape = [Dim]), name=\"D_b3\")       # Output is multi-variate\n",
    "\n",
    "theta_D = [D_W1, D_W2, D_W3, D_b1, D_b2, D_b3]"
   ]
  },
  {
   "cell_type": "code",
   "execution_count": 11,
   "metadata": {},
   "outputs": [],
   "source": [
    "#%% 3. Generator\n",
    "G_W1 = tf.Variable(xavier_init([Dim*2, H_Dim1]), name=\"G_W1\")     # Data + Mask as inputs (Random Noises are in Missing Components)\n",
    "G_b1 = tf.Variable(tf.zeros(shape = [H_Dim1]), name=\"G_b1\")\n",
    "\n",
    "#G_W2 = tf.Variable(xavier_init([H_Dim1, H_Dim2]), name=\"G_W2\")\n",
    "G_W2 = tf.Variable(xavier_init([13, 13]), name=\"G_W2\")\n",
    "#G_b2 = tf.Variable(tf.zeros(shape = [H_Dim2]), name=\"G_b2\")\n",
    "G_b2 = tf.Variable(tf.zeros(shape = [13]), name=\"G_b2\")\n",
    "\n",
    "#G_W3 = tf.Variable(xavier_init([H_Dim2, Dim]), name=\"G_W3\")\n",
    "G_W3 = tf.Variable(xavier_init([13, Dim]), name=\"G_W3\")\n",
    "G_b3 = tf.Variable(tf.zeros(shape = [Dim]), name=\"G_b3\")\n",
    "\n",
    "theta_G = [G_W1, G_W2, G_W3, G_b1, G_b2, G_b3]"
   ]
  },
  {
   "cell_type": "code",
   "execution_count": 12,
   "metadata": {},
   "outputs": [],
   "source": [
    "#%% GAIN Function\n",
    "\n",
    "#%% 1. Generator\n",
    "def generator(new_x,m):\n",
    "    inputs = tf.concat(axis = 1, values = [new_x,m])  # Mask + Data Concatenate\n",
    "    G_h1 = tf.nn.relu(tf.matmul(inputs, G_W1) + G_b1)\n",
    "    G_h2 = tf.nn.relu(tf.matmul(G_h1, G_W2) + G_b2)   \n",
    "    G_prob = tf.nn.sigmoid(tf.matmul(G_h2, G_W3) + G_b3) # [0,1] normalized Output\n",
    "    \n",
    "    return G_prob\n",
    "    \n",
    "#%% 2. Discriminator\n",
    "def discriminator(new_x, h):\n",
    "    inputs = tf.concat(axis = 1, values = [new_x,h])  # Hint + Data Concatenate\n",
    "    D_h1 = tf.nn.relu(tf.matmul(inputs, D_W1) + D_b1)  \n",
    "    D_h2 = tf.nn.relu(tf.matmul(D_h1, D_W2) + D_b2)\n",
    "    D_logit = tf.matmul(D_h2, D_W3) + D_b3\n",
    "    D_prob = tf.nn.sigmoid(D_logit)  # [0,1] Probability Output\n",
    "    \n",
    "    return D_prob"
   ]
  },
  {
   "cell_type": "code",
   "execution_count": 13,
   "metadata": {},
   "outputs": [],
   "source": [
    "#%% 3. Other functions\n",
    "# Random sample generator for Z\n",
    "def sample_Z(m, n):\n",
    "    return np.random.uniform(0., 0.01, size = [m, n])        \n",
    "\n",
    "# Mini-batch generation\n",
    "def sample_idx(m, n):\n",
    "    A = np.random.permutation(m)\n",
    "    idx = A[:n]\n",
    "    return idx"
   ]
  },
  {
   "cell_type": "code",
   "execution_count": 14,
   "metadata": {},
   "outputs": [],
   "source": [
    "#%% Structure\n",
    "# Generator\n",
    "G_sample = generator(New_X,M)\n",
    "\n",
    "# Combine with original data\n",
    "Hat_New_X = New_X * M + G_sample * (1-M)\n",
    "\n",
    "# Discriminator\n",
    "D_prob = discriminator(Hat_New_X, H)\n",
    "\n",
    "#%% Loss\n",
    "D_loss1 = -tf.reduce_mean(M * tf.log(D_prob + 1e-8) + (1-M) * tf.log(1. - D_prob + 1e-8)) \n",
    "G_loss1 = -tf.reduce_mean((1-M) * tf.log(D_prob + 1e-8))\n",
    "MSE_train_loss = tf.reduce_mean((M * New_X - M * G_sample)**2) / tf.reduce_mean(M)\n",
    "\n",
    "D_loss = D_loss1\n",
    "G_loss = G_loss1 + alpha * MSE_train_loss \n",
    "\n",
    "#%% MSE Performance metric\n",
    "MSE_test_loss = tf.reduce_mean(((1-M) * X - (1-M)*G_sample)**2) / tf.reduce_mean(1-M)\n",
    "\n",
    "#%% Solver\n",
    "D_solver = tf.train.AdamOptimizer().minimize(D_loss, var_list=theta_D)\n",
    "G_solver = tf.train.AdamOptimizer().minimize(G_loss, var_list=theta_G)"
   ]
  },
  {
   "cell_type": "code",
   "execution_count": 15,
   "metadata": {},
   "outputs": [
    {
     "name": "stderr",
     "output_type": "stream",
     "text": [
      "100%|█████████████████████████████████████████████████████████████████████████████| 1000/1000 [00:02<00:00, 455.98it/s]\n"
     ]
    },
    {
     "name": "stdout",
     "output_type": "stream",
     "text": [
      "Final Test RMSE: 0.15341431\n"
     ]
    }
   ],
   "source": [
    "# Sessions\n",
    "\n",
    "sess = tf.Session()\n",
    "sess.run(tf.global_variables_initializer())\n",
    "\n",
    "#%% Iterations\n",
    "train_losses = []\n",
    "test_losses = []\n",
    "\n",
    "#%% Start Iterations\n",
    "\n",
    "for it in tqdm(range(1000)):    \n",
    "    \n",
    "    #%% Inputs\n",
    "    mb_idx = sample_idx(Train_No, mb_size)\n",
    "    X_mb = trainX[mb_idx,:]  \n",
    "    \n",
    "    Z_mb = sample_Z(mb_size, Dim) \n",
    "#     M_mb = trainM[mb_idx,:]  \n",
    "    M_mb = trainM[:mb_size, :]\n",
    "    H_mb1 = sample_M(mb_size, Dim, 1-p_hint)\n",
    "    H_mb = M_mb * H_mb1\n",
    "    \n",
    "    New_X_mb = M_mb * X_mb + (1-M_mb) * Z_mb  # Missing Data Introduce\n",
    "    \n",
    "    _, D_loss_curr = sess.run([D_solver, D_loss1], feed_dict = {M: M_mb, New_X: New_X_mb, H: H_mb})\n",
    "    _, G_loss_curr, MSE_train_loss_curr, MSE_test_loss_curr = sess.run([G_solver, G_loss1, MSE_train_loss, MSE_test_loss],\n",
    "                                                                       feed_dict = {X: X_mb, M: M_mb, New_X: New_X_mb, H: H_mb})\n",
    "            \n",
    "        \n",
    "    #%% Intermediate Losses\n",
    "#     if it % 100 == 0:\n",
    "#         print('Iter: {}'.format(it))\n",
    "#         print('Train_loss: {:.4}'.format(np.sqrt(MSE_train_loss_curr)))\n",
    "#         print('Test_loss: {:.4}'.format(np.sqrt(MSE_test_loss_curr)))\n",
    "#         print()\n",
    "    train_losses.append(np.sqrt(MSE_train_loss_curr))\n",
    "    test_losses.append(np.sqrt(MSE_test_loss_curr))\n",
    "    \n",
    "#%% Final Loss\n",
    "   \n",
    "Z_mb = sample_Z(Test_No, Dim) \n",
    "M_mb = testM\n",
    "X_mb = testX\n",
    "        \n",
    "New_X_mb = M_mb * X_mb + (1-M_mb) * Z_mb  # Missing Data Introduce\n",
    "    \n",
    "MSE_final, Sample = sess.run([MSE_test_loss, G_sample], feed_dict = {X: testX, M: testM, New_X: New_X_mb})\n",
    "        \n",
    "print('Final Test RMSE: ' + str(np.sqrt(MSE_final)))\n"
   ]
  },
  {
   "cell_type": "code",
   "execution_count": 16,
   "metadata": {},
   "outputs": [
    {
     "data": {
      "image/png": "[encoded data removed]",
      "text/plain": [
       "<Figure size 432x288 with 1 Axes>"
      ]
     },
     "metadata": {},
     "output_type": "display_data"
    }
   ],
   "source": [
    "# Plot training curve\n",
    "plt.plot(train_losses, 'b.', label=\"Training Loss\", alpha=0.5)\n",
    "plt.plot(test_losses, 'g.', label=\"Test Loss\", alpha=0.5)\n",
    "plt.title(\"Training GAIN on the First Subset from Scratch\")\n",
    "plt.xlabel(\"Number of Mini-Batches\")\n",
    "plt.ylabel(\"RMSE\")\n",
    "plt.ylim(0.09,0.3)\n",
    "plt.legend()\n",
    "plt.savefig(\"GAIN_subset1.png\")\n",
    "plt.show()"
   ]
  },
  {
   "cell_type": "markdown",
   "metadata": {},
   "source": [
    "## Baseline: Train GAIN on the second subset from scratch"
   ]
  },
  {
   "cell_type": "markdown",
   "metadata": {},
   "source": [
    "## Alternative Approach: Use previous GAIN weights to initialize GAIN2"
   ]
  },
  {
   "cell_type": "code",
   "execution_count": 17,
   "metadata": {},
   "outputs": [],
   "source": [
    "# Store trained weights and biases\n",
    "D_W1_values = sess.run(D_W1)\n",
    "D_b1_values = sess.run(D_b1)\n",
    "D_W2_values = sess.run(D_W2)\n",
    "D_b2_values = sess.run(D_b2)\n",
    "D_W3_values = sess.run(D_W3)\n",
    "D_b3_values = sess.run(D_b3)\n",
    "G_W1_values = sess.run(G_W1)\n",
    "G_b1_values = sess.run(G_b1)\n",
    "G_W2_values = sess.run(G_W2)\n",
    "G_b2_values = sess.run(G_b2)\n",
    "G_W3_values = sess.run(G_W3)\n",
    "G_b3_values = sess.run(G_b3)"
   ]
  },
  {
   "cell_type": "code",
   "execution_count": 18,
   "metadata": {},
   "outputs": [],
   "source": [
    "tf.reset_default_graph()\n",
    "Data = subsets[1]"
   ]
  },
  {
   "cell_type": "code",
   "execution_count": 19,
   "metadata": {},
   "outputs": [],
   "source": [
    "# Normalization (0 to 1)\n",
    "Min_Val = np.zeros(Dim)\n",
    "Max_Val = np.zeros(Dim)\n",
    "\n",
    "for i in range(Dim):\n",
    "    Min_Val[i] = np.min(Data[:,i])\n",
    "    Data[:,i] = Data[:,i] - np.min(Data[:,i])\n",
    "    Max_Val[i] = np.max(Data[:,i])\n",
    "    Data[:,i] = Data[:,i] / (np.max(Data[:,i]) + 1e-6)    \n",
    "\n",
    "#%% Missing introducing\n",
    "p_miss_vec = p_miss * np.ones((Dim,1)) \n",
    "   \n",
    "Missing = np.zeros((No,Dim))\n",
    "\n",
    "for i in range(Dim):\n",
    "    A = np.random.uniform(0., 1., size = [len(Data),])\n",
    "    B = A > p_miss_vec[i]\n",
    "    Missing[:,i] = 1.*B"
   ]
  },
  {
   "cell_type": "code",
   "execution_count": 20,
   "metadata": {},
   "outputs": [],
   "source": [
    "#%% Train Test Division    \n",
    "   \n",
    "idx = np.random.permutation(No)\n",
    "\n",
    "Train_No = int(No * train_rate)\n",
    "Test_No = No - Train_No\n",
    "    \n",
    "# Train / Test Features\n",
    "trainX = Data[idx[:Train_No],:]\n",
    "testX = Data[idx[Train_No:],:]\n",
    "\n",
    "# Train / Test Missing Indicators\n",
    "trainM = Missing[idx[:Train_No],:]\n",
    "testM = Missing[idx[Train_No:],:]"
   ]
  },
  {
   "cell_type": "code",
   "execution_count": 21,
   "metadata": {},
   "outputs": [],
   "source": [
    "#%% GAIN Architecture   \n",
    "   \n",
    "#%% 1. Input Placeholders\n",
    "# 1.1. Data Vector\n",
    "X = tf.placeholder(tf.float32, shape = [None, Dim])\n",
    "# 1.2. Mask Vector \n",
    "M = tf.placeholder(tf.float32, shape = [None, Dim])\n",
    "# 1.3. Hint vector\n",
    "H = tf.placeholder(tf.float32, shape = [None, Dim])\n",
    "# 1.4. X with missing values\n",
    "New_X = tf.placeholder(tf.float32, shape = [None, Dim])"
   ]
  },
  {
   "cell_type": "markdown",
   "metadata": {},
   "source": [
    "## Weight sharing and bias sharing for GAIN2"
   ]
  },
  {
   "cell_type": "code",
   "execution_count": 22,
   "metadata": {},
   "outputs": [],
   "source": [
    "'''\n",
    "#D2_W1_np=(np.concatenate((D_W1_values[1:13],a,D_W1_values[14:26],a ),axis=0)).astype('float32')\n",
    "D2_W1_np=D_W1_values.astype('float32')\n",
    "D2_b1_np=D_b1_values.astype('float32')\n",
    "#D2_W2_np=(np.concatenate((D_W2_values[1:13],a),axis=0)).astype('float32') \n",
    "D2_W2_np=(np.concatenate((D_W2_values,c,c1,c2),axis=1)).astype('float32')  \n",
    "D2_b2_np=(np.concatenate((D_b2_values,b1,b2,b3),axis=0)).astype('float32')  \n",
    "D2_W3_np=(np.concatenate((D_W3_values,a1,a2,a3),axis=0)).astype('float32')\n",
    "D2_b3_np=D_b3_values.astype('float32')  \n",
    "#G2_W1_np=(np.concatenate((G_W1_values[1:13],a4,G_W1_values[14:26],a ),axis=0)).astype('float32') \n",
    "#G2_b1_np=(np.concatenate((G_b1_values[1:13],b4),axis=0)).astype('float32')\n",
    "G2_W1_np=G_W1_values.astype('float32')\n",
    "G2_b1_np=G_b1_values.astype('float32')\n",
    "G2_W2_np=(np.concatenate((G_W2_values,c3,c4,c5),axis=1)).astype('float32')\n",
    "G2_b2_np=(np.concatenate((G_b2_values,b5,b6,b7),axis=0)).astype('float32') \n",
    "G2_W3_np=(np.concatenate((G_W3_values,a5,a6,a7),axis=0)).astype('float32') \n",
    "G2_b3_np=G_b3_values.astype('float32') \n",
    "'''\n",
    "#Discriminator weights and biases\n",
    "D2_W1_np=D_W1_values.astype('float32')\n",
    "D2_b1_np=D_b1_values.astype('float32')\n",
    "D2_W2_np1=D_W2_values.astype('float32')\n",
    "#D2_W2_np2=np.concatenate((c,c1,c2),axis=1).astype('float32')\n",
    "D2_b2_np1=D_b2_values.astype('float32')\n",
    "#D2_b2_np2=np.concatenate((b1,b2,b3),axis=0).astype('float32')\n",
    "D2_W3_np1=D_W3_values.astype('float32')\n",
    "#D2_W3_np2=np.concatenate((a1,a2,a3),axis=0).astype('float32')\n",
    "D2_b3_np=D_b3_values.astype('float32') \n",
    "\n",
    "#Generator weights and biases\n",
    "G2_W1_np=G_W1_values.astype('float32')\n",
    "G2_b1_np=G_b1_values.astype('float32')\n",
    "G2_W2_np1=G_W2_values.astype('float32')\n",
    "#G2_W2_np2=np.concatenate((c3,c4,c5),axis=1).astype('float32')\n",
    "G2_b2_np1=G_b2_values.astype('float32')\n",
    "#G2_b2_np2=np.concatenate((b5,b6,b7),axis=0).astype('float32')\n",
    "G2_W3_np1=G_W3_values.astype('float32')\n",
    "#G2_W3_np2=np.concatenate((a5,a6,a7),axis=0).astype('float32')\n",
    "G2_b3_np=G_b3_values.astype('float32')"
   ]
  },
  {
   "cell_type": "code",
   "execution_count": 23,
   "metadata": {},
   "outputs": [],
   "source": [
    "'''\n",
    "G2_W1 = tf.get_variable(\"G2_W1\", initializer=G2_W1_np) \n",
    "G2_b1 =tf.get_variable(\"G2_b1\", initializer=G2_b1_np)\n",
    "\n",
    "G2_W2=tf.get_variable(\"G2_W2\", initializer=G2_W2_np)\n",
    "G2_b2=tf.get_variable(\"G2_b2\", initializer=G2_b2_np)\n",
    "\n",
    "G2_W3=tf.get_variable(\"G2_W3\", initializer=G2_W3_np)\n",
    "G2_b3=tf.get_variable(\"G2_b3\", initializer=G2_b3_np)\n",
    "theta_G2 = [G2_W1, G2_W2, G2_W3, G2_b1, G2_b2, G2_b3]\n",
    "'''\n",
    "G2_W1=tf.get_variable(\"G2_W1\", initializer=G2_W1_np)\n",
    "G2_b1 =tf.get_variable(\"G2_b1\", initializer=G2_b1_np)\n",
    "\n",
    "G2_W21=tf.get_variable(\"G2_W21\", initializer=G2_W2_np1)\n",
    "#G2_W22=tf.get_variable(\"G2_W22\", initializer=G2_W2_np2)\n",
    "G2_W22=tf.Variable(xavier_init([13, 5]), name=\"G2_W2\")\n",
    "G2_b21=tf.get_variable(\"G2_b21\", initializer=G2_b2_np1)\n",
    "#G2_b22=tf.get_variable(\"G2_b22\", initializer=G2_b2_np2)\n",
    "G2_b22=tf.Variable(xavier_init([1, 5]), name=\"G2_b22\")\n",
    "\n",
    "G2_W31=tf.get_variable(\"G2_W31\", initializer=G2_W3_np1)\n",
    "#G2_W32=tf.get_variable(\"G2_W32\", initializer=G2_W3_np2)\n",
    "G2_W32=tf.Variable(xavier_init([5, 13]), name=\"G2_W32\")\n",
    "G2_b3=tf.get_variable(\"G2_b3\", initializer=G2_b3_np)\n",
    "\n",
    "theta_G2 = [G2_W22, G2_W32, G2_b22]\n",
    "#theta_G2 = [G2_W1,G2_W21,G2_W22,G2_W31,G2_W32,G2_b1,G2_b21, G2_b22,G2_b3]"
   ]
  },
  {
   "cell_type": "code",
   "execution_count": 24,
   "metadata": {},
   "outputs": [],
   "source": [
    "'''\n",
    "D2_W1 = tf.get_variable(\"D2_W1\", initializer=D2_W1_np)\n",
    "D2_b1 =tf.get_variable(\"D2_b1\", initializer=D2_b1_np)\n",
    "\n",
    "D2_W2=tf.get_variable(\"D2_W2\", initializer=D2_W2_np)\n",
    "D2_b2=tf.get_variable(\"D2_b2\", initializer=D2_b2_np)\n",
    "\n",
    "D2_W3=tf.get_variable(\"D2_W3\", initializer=D2_W3_np)\n",
    "D2_b3=tf.get_variable(\"D2_b3\", initializer=D2_b3_np)\n",
    "\n",
    "theta_D2 = [D2_W1, D2_W2, D2_W3, D2_b1, D2_b2, D2_b3]\n",
    "'''\n",
    "D2_W1 = tf.get_variable(\"D2_W1\", initializer=D2_W1_np)\n",
    "D2_b1 =tf.get_variable(\"D2_b1\", initializer=D2_b1_np)\n",
    "\n",
    "D2_W21=tf.get_variable(\"D2_W21\", initializer=D2_W2_np1)\n",
    "#D2_W22=tf.get_variable(\"D2_W22\", initializer=D2_W2_np2)\n",
    "D2_W22=tf.Variable(xavier_init([13, 5]), name=\"D2_W2\")\n",
    "D2_b21=tf.get_variable(\"D2_b21\", initializer=D2_b2_np1)\n",
    "#D2_b22=tf.get_variable(\"D2_b22\", initializer=D2_b2_np2)\n",
    "D2_b22=tf.Variable(xavier_init([1, 5]), name=\"D2_b22\")\n",
    "\n",
    "D2_W31=tf.get_variable(\"D2_W31\", initializer=D2_W3_np1)\n",
    "#D2_W32=tf.get_variable(\"D2_W32\", initializer=D2_W3_np2)\n",
    "D2_W32=tf.Variable(xavier_init([5, 13]), name=\"D2_W32\")\n",
    "D2_b3=tf.get_variable(\"D2_b3\", initializer=D2_b3_np)\n",
    "\n",
    "theta_D2 = [ D2_W22, D2_W32, D2_b22]\n",
    "#theta_D2 = [D2_W1,D2_W21,D2_W22,D2_W31,D2_W32,D2_b1,D2_b21, D2_b22,D2_b3]"
   ]
  },
  {
   "cell_type": "code",
   "execution_count": 25,
   "metadata": {},
   "outputs": [],
   "source": [
    "#%% GAIN Function\n",
    "'''\n",
    "#%% 1. Generator\n",
    "def generator(new_x,m):\n",
    "    inputs = tf.concat(axis = 1, values = [new_x,m])  # Mask + Data Concatenate\n",
    "    G2_h1 = tf.nn.relu(tf.matmul(inputs, G2_W1) + G2_b1)\n",
    "    G2_h2 = tf.nn.relu(tf.matmul(G2_h1, G2_W2) + G2_b2)   \n",
    "    G_prob = tf.nn.sigmoid(tf.matmul(G2_h2, G2_W3) + G2_b3) # [0,1] normalized Output\n",
    "    \n",
    "    return G_prob\n",
    "    \n",
    "#%% 2. Discriminator\n",
    "def discriminator(new_x, h):\n",
    "    inputs = tf.concat(axis = 1, values = [new_x,h])  # Hint + Data Concatenate\n",
    "    D2_h1 = tf.nn.relu(tf.matmul(inputs, D2_W1) + D2_b1)  \n",
    "    D2_h2 = tf.nn.relu(tf.matmul(D2_h1, D2_W2) + D2_b2)\n",
    "    D2_logit = tf.matmul(D2_h2, D2_W3) + D2_b3\n",
    "    D_prob = tf.nn.sigmoid(D2_logit)  # [0,1] Probability Output\n",
    "    \n",
    "    return D_prob\n",
    "'''\n",
    "\n",
    "#%% 1. Generator\n",
    "def generator(new_x,m):\n",
    "    inputs = tf.concat(axis = 1, values = [new_x,m])  # Mask + Data Concatenate\n",
    "    G2_h1 = tf.nn.relu(tf.matmul(inputs, G2_W1) + G2_b1)\n",
    "    G2_h2 = tf.nn.relu(tf.concat([(tf.matmul(G2_h1, G2_W21) + G2_b21),(tf.matmul(G2_h1, G2_W22) + G2_b22)],1))   \n",
    "    G_prob = tf.nn.sigmoid(tf.matmul(G2_h2,tf.concat((G2_W31,G2_W32),0)) + G2_b3) # [0,1] normalized Output\n",
    "    \n",
    "    return G_prob\n",
    "    \n",
    "#%% 2. Discriminator\n",
    "def discriminator(new_x, h):\n",
    "    inputs = tf.concat(axis = 1, values = [new_x,h])  # Hint + Data Concatenate\n",
    "    D2_h1 = tf.nn.relu(tf.matmul(inputs, D2_W1) + D2_b1)  \n",
    "    D2_h2 = tf.nn.relu(tf.concat([(tf.matmul(D2_h1, D2_W21) + D2_b21),(tf.matmul(D2_h1, D2_W22) + D2_b22)],1)) \n",
    "    D2_logit = tf.matmul(D2_h2, tf.concat((D2_W31,D2_W32),0)) + D2_b3\n",
    "    D_prob = tf.nn.sigmoid(D2_logit)  # [0,1] Probability Output\n",
    "    \n",
    "    return D_prob"
   ]
  },
  {
   "cell_type": "code",
   "execution_count": 26,
   "metadata": {},
   "outputs": [],
   "source": [
    "#%% Structure\n",
    "# Generator\n",
    "G_sample = generator(New_X,M)\n",
    "#print(\"G_sample\",G_sample)\n",
    "# Combine with original data\n",
    "Hat_New_X = New_X * M + G_sample * (1-M)\n",
    "\n",
    "# Discriminator\n",
    "D_prob = discriminator(Hat_New_X, H)\n",
    "#print(\"D_prob\",D_prob)\n",
    "#%% Loss\n",
    "D_loss1 = -tf.reduce_mean(M * tf.log(D_prob + 1e-8) + (1-M) * tf.log(1. - D_prob + 1e-8)) \n",
    "G_loss1 = -tf.reduce_mean((1-M) * tf.log(D_prob + 1e-8))\n",
    "MSE_train_loss = tf.reduce_mean((M * New_X - M * G_sample)**2) / tf.reduce_mean(M)\n",
    "\n",
    "D_loss = D_loss1\n",
    "G_loss = G_loss1 + alpha * MSE_train_loss \n",
    "\n",
    "#%% MSE Performance metric\n",
    "MSE_test_loss = tf.reduce_mean(((1-M) * X - (1-M)*G_sample)**2) / tf.reduce_mean(1-M)\n",
    "\n",
    "#%% Solver\n",
    "D_solver = tf.train.AdamOptimizer().minimize(D_loss, var_list=theta_D2)\n",
    "G_solver = tf.train.AdamOptimizer().minimize(G_loss, var_list=theta_G2)"
   ]
  },
  {
   "cell_type": "code",
   "execution_count": 27,
   "metadata": {},
   "outputs": [
    {
     "name": "stderr",
     "output_type": "stream",
     "text": [
      "100%|█████████████████████████████████████████████████████████████████████████████| 1000/1000 [00:02<00:00, 488.60it/s]\n"
     ]
    },
    {
     "name": "stdout",
     "output_type": "stream",
     "text": [
      "Final Test RMSE: 0.1691447\n"
     ]
    }
   ],
   "source": [
    "# Sessions\n",
    "sess = tf.Session()\n",
    "sess.run(tf.global_variables_initializer())\n",
    "\n",
    "#%% Iterations\n",
    "train_losses2 = []\n",
    "test_losses2 = []\n",
    "\n",
    "#%% Start Iterations\n",
    "for it in tqdm(range(1000)):    \n",
    "    \n",
    "    #%% Inputs\n",
    "    mb_idx = sample_idx(Train_No, mb_size)\n",
    "    X_mb = trainX[mb_idx,:]  \n",
    "    \n",
    "    Z_mb = sample_Z(mb_size, Dim) \n",
    "#     M_mb = trainM[mb_idx,:]  \n",
    "    M_mb = trainM[:mb_size, :]\n",
    "    H_mb1 = sample_M(mb_size, Dim, 1-p_hint)\n",
    "    H_mb = M_mb * H_mb1\n",
    "    \n",
    "    New_X_mb = M_mb * X_mb + (1-M_mb) * Z_mb  # Missing Data Introduce\n",
    "    \n",
    "    _, D_loss_curr = sess.run([D_solver, D_loss1], feed_dict = {M: M_mb, New_X: New_X_mb, H: H_mb})\n",
    "    _, G_loss_curr, MSE_train_loss_curr, MSE_test_loss_curr = sess.run([G_solver, G_loss1, MSE_train_loss, MSE_test_loss],\n",
    "                                                                       feed_dict = {X: X_mb, M: M_mb, New_X: New_X_mb, H: H_mb})\n",
    "            \n",
    "        \n",
    "    #%% Intermediate Losses\n",
    "#     if it % 100 == 0:\n",
    "#         print('Iter: {}'.format(it))\n",
    "#         print('Train_loss: {:.4}'.format(np.sqrt(MSE_train_loss_curr)))\n",
    "#         print('Test_loss: {:.4}'.format(np.sqrt(MSE_test_loss_curr)))\n",
    "#         print()\n",
    "    train_losses2.append(np.sqrt(MSE_train_loss_curr))\n",
    "    test_losses2.append(np.sqrt(MSE_test_loss_curr))\n",
    "    \n",
    "#%% Final Loss\n",
    "    \n",
    "Z_mb = sample_Z(Test_No, Dim) \n",
    "M_mb = testM\n",
    "X_mb = testX\n",
    "        \n",
    "New_X_mb = M_mb * X_mb + (1-M_mb) * Z_mb  # Missing Data Introduce\n",
    "    \n",
    "MSE_final, Sample = sess.run([MSE_test_loss, G_sample], feed_dict = {X: testX, M: testM, New_X: New_X_mb})\n",
    "        \n",
    "print('Final Test RMSE: ' + str(np.sqrt(MSE_final)))"
   ]
  },
  {
   "cell_type": "code",
   "execution_count": 28,
   "metadata": {},
   "outputs": [
    {
     "data": {
      "image/png": "[encoded data removed]",
      "text/plain": [
       "<Figure size 432x288 with 1 Axes>"
      ]
     },
     "metadata": {},
     "output_type": "display_data"
    }
   ],
   "source": [
    "# Plot training curve\n",
    "plt.plot(train_losses2, 'b.', label=\"Training Loss\", alpha=0.5)\n",
    "plt.plot(test_losses2, 'g.', label=\"Test Loss\", alpha=0.5)\n",
    "plt.title(\"Training GAIN2 on the Second Subset through weight sharing\")\n",
    "plt.xlabel(\"Number of Mini-Batches\")\n",
    "plt.ylabel(\"RMSE\")\n",
    "plt.ylim(0.09,0.35)\n",
    "plt.legend()\n",
    "plt.savefig(\"GAIN_subset2.png\")\n",
    "plt.show()"
   ]
  },
  {
   "cell_type": "markdown",
   "metadata": {},
   "source": [
    "## GAIN3"
   ]
  },
  {
   "cell_type": "code",
   "execution_count": 29,
   "metadata": {},
   "outputs": [],
   "source": [
    "# Store trained weights and biases\n",
    "'''\n",
    "D2_W1_values = sess.run(D2_W1)\n",
    "D2_b1_values = sess.run(D2_b1)\n",
    "D2_W2_values = sess.run(D2_W2)\n",
    "D2_b2_values = sess.run(D2_b2)\n",
    "D2_W3_values = sess.run(D2_W3)\n",
    "D2_b3_values = sess.run(D2_b3)\n",
    "G2_W1_values = sess.run(G2_W1)\n",
    "G2_b1_values = sess.run(G2_b1)\n",
    "G2_W2_values = sess.run(G2_W2)\n",
    "G2_b2_values = sess.run(G2_b2)\n",
    "G2_W3_values = sess.run(G2_W3)\n",
    "G2_b3_values = sess.run(G2_b3)\n",
    "'''\n",
    "D2_W1_values = sess.run(D2_W1)\n",
    "D2_b1_values = sess.run(D2_b1)\n",
    "D2_W21_values=sess.run(D2_W21)\n",
    "D2_W22_values=sess.run(D2_W22)\n",
    "D2_b21_values=sess.run(D2_b21)\n",
    "D2_b22_values=sess.run(D2_b22)\n",
    "D2_W31_values=sess.run(D2_W31)\n",
    "D2_W32_values=sess.run(D2_W32)\n",
    "D2_b3_values=sess.run(D2_b3)\n",
    "\n",
    "G2_W1_values = sess.run(G2_W1)\n",
    "G2_b1_values = sess.run(G2_b1)\n",
    "G2_W21_values=sess.run(G2_W21)\n",
    "G2_W22_values=sess.run(G2_W22)\n",
    "G2_b21_values=sess.run(G2_b21)\n",
    "G2_b22_values=sess.run(G2_b22)\n",
    "G2_W31_values=sess.run(G2_W31)\n",
    "G2_W32_values=sess.run(G2_W32)\n",
    "G2_b3_values=sess.run(G2_b3)\n"
   ]
  },
  {
   "cell_type": "code",
   "execution_count": 30,
   "metadata": {},
   "outputs": [],
   "source": [
    "tf.reset_default_graph()\n",
    "Data = subsets[2]"
   ]
  },
  {
   "cell_type": "code",
   "execution_count": 31,
   "metadata": {},
   "outputs": [],
   "source": [
    "# Normalization (0 to 1)\n",
    "Min_Val = np.zeros(Dim)\n",
    "Max_Val = np.zeros(Dim)\n",
    "\n",
    "for i in range(Dim):\n",
    "    Min_Val[i] = np.min(Data[:,i])\n",
    "    Data[:,i] = Data[:,i] - np.min(Data[:,i])\n",
    "    Max_Val[i] = np.max(Data[:,i])\n",
    "    Data[:,i] = Data[:,i] / (np.max(Data[:,i]) + 1e-6)    \n",
    "\n",
    "#%% Missing introducing\n",
    "p_miss_vec = p_miss * np.ones((Dim,1)) \n",
    "   \n",
    "Missing = np.zeros((No,Dim))\n",
    "\n",
    "for i in range(Dim):\n",
    "    A = np.random.uniform(0., 1., size = [len(Data),])\n",
    "    B = A > p_miss_vec[i]\n",
    "    Missing[:,i] = 1.*B"
   ]
  },
  {
   "cell_type": "code",
   "execution_count": 32,
   "metadata": {},
   "outputs": [],
   "source": [
    "#%% Train Test Division    \n",
    "   \n",
    "idx = np.random.permutation(No)\n",
    "\n",
    "Train_No = int(No * train_rate)\n",
    "Test_No = No - Train_No\n",
    "    \n",
    "# Train / Test Features\n",
    "trainX = Data[idx[:Train_No],:]\n",
    "testX = Data[idx[Train_No:],:]\n",
    "\n",
    "# Train / Test Missing Indicators\n",
    "trainM = Missing[idx[:Train_No],:]\n",
    "testM = Missing[idx[Train_No:],:]"
   ]
  },
  {
   "cell_type": "code",
   "execution_count": 33,
   "metadata": {},
   "outputs": [],
   "source": [
    "#%% GAIN Architecture   \n",
    "   \n",
    "#%% 1. Input Placeholders\n",
    "# 1.1. Data Vector\n",
    "X = tf.placeholder(tf.float32, shape = [None, Dim])\n",
    "# 1.2. Mask Vector \n",
    "M = tf.placeholder(tf.float32, shape = [None, Dim])\n",
    "# 1.3. Hint vector\n",
    "H = tf.placeholder(tf.float32, shape = [None, Dim])\n",
    "# 1.4. X with missing values\n",
    "New_X = tf.placeholder(tf.float32, shape = [None, Dim])"
   ]
  },
  {
   "cell_type": "code",
   "execution_count": 34,
   "metadata": {},
   "outputs": [],
   "source": [
    "'''\n",
    "#D3_W1_np=(np.concatenate((D2_W1_values[1:13],a,D2_W1_values[14:26],a ),axis=0)).astype('float32')\n",
    "#D3_b1_np=(np.concatenate((D2_b1_values[1:13],b),axis=0)).astype('float32')\n",
    "D3_W1_np=D2_W1_values.astype('float32')\n",
    "D3_b1_np=D2_b1_values.astype('float32')\n",
    "D3_W2_np=(np.concatenate((D2_W2_values,c,c1,c2),axis=1)).astype('float32')  \n",
    "D3_b2_np=(np.concatenate((D2_b2_values,b1,b2,b3),axis=0)).astype('float32')  \n",
    "D3_W3_np=(np.concatenate((D2_W3_values,a1,a2,a3),axis=0)).astype('float32')  \n",
    "D3_b3_np=D2_b3_values.astype('float32')  \n",
    "#G3_W1_np=(np.concatenate((G2_W1_values[1:13],a4,G2_W1_values[14:26],a4 ),axis=0)).astype('float32') \n",
    "#G3_b1_np=(np.concatenate((G2_b1_values[1:13],b4),axis=0)).astype('float32')\n",
    "G3_W1_np=G2_W1_values.astype('float32')\n",
    "G3_b1_np=G2_b1_values.astype('float32')\n",
    "G3_W2_np=(np.concatenate((G2_W2_values,c3,c4,c5),axis=1)).astype('float32') \n",
    "G3_b2_np=(np.concatenate((G2_b2_values,b5,b6,b7),axis=0)).astype('float32')  \n",
    "G3_W3_np=(np.concatenate((G2_W3_values,a5,a6,a7),axis=0)).astype('float32')  \n",
    "G3_b3_np=G2_b3_values.astype('float32') \n",
    "'''\n",
    "\n",
    "#Discriminator weights and biases\n",
    "D3_W1_np=D2_W1_values.astype('float32')\n",
    "D3_b1_np=D2_b1_values.astype('float32')\n",
    "D3_W2_np1=D2_W21_values.astype('float32')\n",
    "D3_W2_np2=D2_W22_values.astype('float32')\n",
    "#D3_W2_np3=np.concatenate((c,c1,c2),axis=1).astype('float32')\n",
    "D3_b2_np1=D2_b21_values.astype('float32')\n",
    "D3_b2_np2=D2_b22_values.astype('float32')\n",
    "#D3_b2_np3=np.concatenate((b1,b2,b3),axis=0).astype('float32')\n",
    "D3_W3_np1=D2_W31_values.astype('float32')\n",
    "D3_W3_np2=D2_W32_values.astype('float32')\n",
    "#D3_W3_np3=np.concatenate((a1,a2,a3),axis=0).astype('float32')\n",
    "D3_b3_np=D2_b3_values.astype('float32') \n",
    "\n",
    "#Generator weights and biases\n",
    "G3_W1_np=G2_W1_values.astype('float32')\n",
    "G3_b1_np=G2_b1_values.astype('float32')\n",
    "G3_W2_np1=G2_W21_values.astype('float32')\n",
    "G3_W2_np2=G2_W22_values.astype('float32')\n",
    "#G3_W2_np3=np.concatenate((c3,c4,c5),axis=1).astype('float32')\n",
    "G3_b2_np1=G2_b21_values.astype('float32')\n",
    "G3_b2_np2=G2_b22_values.astype('float32')\n",
    "#G3_b2_np3=np.concatenate((b5,b6,b7),axis=0).astype('float32')\n",
    "G3_W3_np1=G2_W31_values.astype('float32')\n",
    "G3_W3_np2=G2_W32_values.astype('float32')\n",
    "#G3_W3_np3=np.concatenate((a5,a6,a7),axis=0).astype('float32')\n",
    "G3_b3_np=G2_b3_values.astype('float32')"
   ]
  },
  {
   "cell_type": "code",
   "execution_count": 35,
   "metadata": {},
   "outputs": [],
   "source": [
    "'''\n",
    "G3_W1 = tf.get_variable(\"G3_W1\", initializer=G3_W1_np) \n",
    "G3_b1 =tf.get_variable(\"G3_b1\", initializer=G3_b1_np)\n",
    "\n",
    "G3_W2=tf.get_variable(\"G3_W2\", initializer=G3_W2_np)\n",
    "G3_b2=tf.get_variable(\"G3_b2\", initializer=G3_b2_np)\n",
    "\n",
    "G3_W3=tf.get_variable(\"G3_W3\", initializer=G3_W3_np)\n",
    "G3_b3=tf.get_variable(\"G3_b3\", initializer=G3_b3_np)\n",
    "theta_G3 = [G3_W2[:, -3:], G3_W3[-3:, :], G3_b2[:, -3:]]\n",
    "'''\n",
    "\n",
    "\n",
    "G3_W1=tf.get_variable(\"G3_W1\", initializer=G3_W1_np)\n",
    "G3_b1 =tf.get_variable(\"G3_b1\", initializer=G3_b1_np)\n",
    "\n",
    "G3_W21=tf.get_variable(\"G3_W21\", initializer=G3_W2_np1)\n",
    "G3_W22=tf.get_variable(\"G3_W22\", initializer=G3_W2_np2)\n",
    "#G3_W23=tf.get_variable(\"G3_W23\", initializer=G3_W2_np3)\n",
    "G3_W23=tf.Variable(xavier_init([13, 5]), name=\"G3_W23\")\n",
    "G3_b21=tf.get_variable(\"G3_b21\", initializer=G3_b2_np1)\n",
    "G3_b22=tf.get_variable(\"G3_b22\", initializer=G3_b2_np2)\n",
    "#G3_b23=tf.get_variable(\"G3_b23\", initializer=G3_b2_np3)\n",
    "G3_b23=tf.Variable(xavier_init([1, 5]), name=\"G3_b23\")\n",
    "\n",
    "\n",
    "G3_W31=tf.get_variable(\"G3_W31\", initializer=G3_W3_np1)\n",
    "G3_W32=tf.get_variable(\"G3_W32\", initializer=G3_W3_np2)\n",
    "#G3_W33=tf.get_variable(\"G3_W33\", initializer=G3_W3_np3)\n",
    "G3_W33=tf.Variable(xavier_init([5, 13]), name=\"G3_W33\")\n",
    "G3_b3=tf.get_variable(\"G3_b3\", initializer=G3_b3_np)\n",
    "\n",
    "theta_G3 = [G3_W23, G3_W33, G3_b23]\n",
    "#theta_G3 = [G3_W1,G3_W21,G3_W22,G3_W23,G3_W31,G3_W32, G3_W33,G3_b1,G3_b21,G3_b22, G3_b23,G3_b3]"
   ]
  },
  {
   "cell_type": "code",
   "execution_count": 36,
   "metadata": {},
   "outputs": [],
   "source": [
    "'''\n",
    "D3_W1 = tf.get_variable(\"D3_W1\", initializer=D3_W1_np)\n",
    "D3_b1 =tf.get_variable(\"D3_b1\", initializer=D3_b1_np)\n",
    "\n",
    "D3_W2=tf.get_variable(\"D3_W2\", initializer=D3_W2_np)\n",
    "D3_b2=tf.get_variable(\"D3_b2\", initializer=D3_b2_np)\n",
    "\n",
    "D3_W3=tf.get_variable(\"D3_W3\", initializer=D3_W3_np)\n",
    "D3_b3=tf.get_variable(\"D3_b3\", initializer=D3_b3_np)\n",
    "\n",
    "#theta_D3 = [D3_W1, D3_W2, D3_W3, D3_b1, D3_b2, D3_b3]\n",
    "theta_D3 = [D3_W2[:, -3:], D3_W3[-3:, :], D3_b2[:, -3:]]\n",
    "'''\n",
    "D3_W1 = tf.get_variable(\"D3_W1\", initializer=D3_W1_np)\n",
    "D3_b1 =tf.get_variable(\"D3_b1\", initializer=D3_b1_np)\n",
    "\n",
    "D3_W21=tf.get_variable(\"D3_W21\", initializer=D3_W2_np1)\n",
    "D3_W22=tf.get_variable(\"D3_W22\", initializer=D3_W2_np2)\n",
    "#D3_W23=tf.get_variable(\"D3_W23\", initializer=D3_W2_np3)\n",
    "D3_W23=tf.Variable(xavier_init([13, 5]), name=\"D3_W23\")\n",
    "D3_b21=tf.get_variable(\"D3_b21\", initializer=D3_b2_np1)\n",
    "D3_b22=tf.get_variable(\"D3_b22\", initializer=D3_b2_np2)\n",
    "#D3_b23=tf.get_variable(\"D3_b23\", initializer=D3_b2_np3)\n",
    "D3_b23=tf.Variable(xavier_init([1, 5]), name=\"D3_b23\")\n",
    "\n",
    "D3_W31=tf.get_variable(\"D3_W31\", initializer=D3_W3_np1)\n",
    "D3_W32=tf.get_variable(\"D3_W32\", initializer=D3_W3_np2)\n",
    "#D3_W33=tf.get_variable(\"D3_W33\", initializer=D3_W3_np3)\n",
    "D3_W33=tf.Variable(xavier_init([5, 13]), name=\"D3_W33\")\n",
    "D3_b3=tf.get_variable(\"D3_b3\", initializer=D3_b3_np)\n",
    "theta_D3 = [ D3_W23, D3_W33, D3_b23]\n",
    "#theta_D3 = [D3_W1,D3_W21,D3_W22,D3_W23,D3_W31,D3_W32, D3_W33,D3_b1,D3_b21,D3_b22, D3_b23,D3_b3]"
   ]
  },
  {
   "cell_type": "code",
   "execution_count": 37,
   "metadata": {},
   "outputs": [],
   "source": [
    "#%% GAIN Function\n",
    "'''\n",
    "#%% 1. Generator\n",
    "def generator(new_x,m):\n",
    "    inputs = tf.concat(axis = 1, values = [new_x,m])  # Mask + Data Concatenate\n",
    "    G3_h1 = tf.nn.relu(tf.matmul(inputs, G3_W1) + G3_b1)\n",
    "    G3_h2 = tf.nn.relu(tf.matmul(G3_h1, G3_W2) + G3_b2)   \n",
    "    G_prob = tf.nn.sigmoid(tf.matmul(G3_h2, G3_W3) + G3_b3) # [0,1] normalized Output\n",
    "    \n",
    "    return G_prob\n",
    "    \n",
    "#%% 2. Discriminator\n",
    "def discriminator(new_x, h):\n",
    "    inputs = tf.concat(axis = 1, values = [new_x,h])  # Hint + Data Concatenate\n",
    "    D3_h1 = tf.nn.relu(tf.matmul(inputs, D3_W1) + D3_b1)  \n",
    "    D3_h2 = tf.nn.relu(tf.matmul(D3_h1, D3_W2) + D3_b2)\n",
    "    D3_logit = tf.matmul(D3_h2, D3_W3) + D3_b3\n",
    "    D_prob = tf.nn.sigmoid(D3_logit)  # [0,1] Probability Output\n",
    "    \n",
    "    return D_prob\n",
    "'''\n",
    "\n",
    "#%% 1. Generator\n",
    "def generator(new_x,m):\n",
    "    inputs = tf.concat(axis = 1, values = [new_x,m])  # Mask + Data Concatenate\n",
    "    G3_h1 = tf.nn.relu(tf.matmul(inputs, G3_W1) + G3_b1)\n",
    "    G3_h2 = tf.nn.relu(tf.concat([(tf.matmul(G3_h1, G3_W21) + G3_b21),(tf.matmul(G3_h1, G3_W22) + G3_b22),\n",
    "                                 (tf.matmul(G3_h1, G3_W23) + G3_b23)],1))   \n",
    "    G_prob = tf.nn.sigmoid(tf.matmul(G3_h2,tf.concat((G3_W31,G3_W32,G3_W33),0)) + G3_b3) # [0,1] normalized Output\n",
    "    \n",
    "    return G_prob\n",
    "    \n",
    "#%% 2. Discriminator\n",
    "def discriminator(new_x, h):\n",
    "    inputs = tf.concat(axis = 1, values = [new_x,h])  # Hint + Data Concatenate\n",
    "    D3_h1 = tf.nn.relu(tf.matmul(inputs, D3_W1) + D3_b1)  \n",
    "    D3_h2 = tf.nn.relu(tf.concat([(tf.matmul(D3_h1, D3_W21) + D3_b21),(tf.matmul(D3_h1, D3_W22) + D3_b22),\n",
    "                                 (tf.matmul(D3_h1, D3_W23) + D3_b23)],1)) \n",
    "    D3_logit = tf.matmul(D3_h2, tf.concat((D3_W31,D3_W32,D3_W33),0)) + D3_b3\n",
    "    D_prob = tf.nn.sigmoid(D3_logit)  # [0,1] Probability Output\n",
    "    \n",
    "    return D_prob"
   ]
  },
  {
   "cell_type": "code",
   "execution_count": 38,
   "metadata": {},
   "outputs": [],
   "source": [
    "#%% Structure\n",
    "# Generator\n",
    "G_sample = generator(New_X,M)\n",
    "#print(\"G_sample\",G_sample)\n",
    "# Combine with original data\n",
    "Hat_New_X = New_X * M + G_sample * (1-M)\n",
    "\n",
    "# Discriminator\n",
    "D_prob = discriminator(Hat_New_X, H)\n",
    "#print(\"D_prob\",D_prob)\n",
    "#%% Loss\n",
    "D_loss1 = -tf.reduce_mean(M * tf.log(D_prob + 1e-8) + (1-M) * tf.log(1. - D_prob + 1e-8)) \n",
    "G_loss1 = -tf.reduce_mean((1-M) * tf.log(D_prob + 1e-8))\n",
    "MSE_train_loss = tf.reduce_mean((M * New_X - M * G_sample)**2) / tf.reduce_mean(M)\n",
    "\n",
    "D_loss = D_loss1\n",
    "G_loss = G_loss1 + alpha * MSE_train_loss \n",
    "\n",
    "#%% MSE Performance metric\n",
    "MSE_test_loss = tf.reduce_mean(((1-M) * X - (1-M)*G_sample)**2) / tf.reduce_mean(1-M)\n",
    "\n",
    "#%% Solver\n",
    "D_solver = tf.train.AdamOptimizer().minimize(D_loss, var_list=theta_D3)\n",
    "G_solver = tf.train.AdamOptimizer().minimize(G_loss, var_list=theta_G3)"
   ]
  },
  {
   "cell_type": "code",
   "execution_count": 39,
   "metadata": {},
   "outputs": [
    {
     "name": "stderr",
     "output_type": "stream",
     "text": [
      "100%|█████████████████████████████████████████████████████████████████████████████| 1000/1000 [00:02<00:00, 479.86it/s]\n"
     ]
    },
    {
     "name": "stdout",
     "output_type": "stream",
     "text": [
      "Final Test RMSE: 0.18884349\n",
      "Time cost:  2.085908889770508\n"
     ]
    }
   ],
   "source": [
    "# Sessions\n",
    "import time\n",
    "sess = tf.Session()\n",
    "sess.run(tf.global_variables_initializer())\n",
    "\n",
    "#%% Iterations\n",
    "train_losses3 = []\n",
    "test_losses3 = []\n",
    "t2=time.time()\n",
    "#%% Start Iterations\n",
    "for it in tqdm(range(1000)):    \n",
    "    \n",
    "    #%% Inputs\n",
    "    mb_idx = sample_idx(Train_No, mb_size)\n",
    "    X_mb = trainX[mb_idx,:]  \n",
    "    \n",
    "    Z_mb = sample_Z(mb_size, Dim) \n",
    "#     M_mb = trainM[mb_idx,:]  \n",
    "    M_mb = trainM[:mb_size, :]\n",
    "    H_mb1 = sample_M(mb_size, Dim, 1-p_hint)\n",
    "    H_mb = M_mb * H_mb1\n",
    "    \n",
    "    New_X_mb = M_mb * X_mb + (1-M_mb) * Z_mb  # Missing Data Introduce\n",
    "    \n",
    "    _, D_loss_curr = sess.run([D_solver, D_loss1], feed_dict = {M: M_mb, New_X: New_X_mb, H: H_mb})\n",
    "    _, G_loss_curr, MSE_train_loss_curr, MSE_test_loss_curr = sess.run([G_solver, G_loss1, MSE_train_loss, MSE_test_loss],\n",
    "                                                                       feed_dict = {X: X_mb, M: M_mb, New_X: New_X_mb, H: H_mb})\n",
    "            \n",
    "        \n",
    "    #%% Intermediate Losses\n",
    "#     if it % 100 == 0:\n",
    "#         print('Iter: {}'.format(it))\n",
    "#         print('Train_loss: {:.4}'.format(np.sqrt(MSE_train_loss_curr)))\n",
    "#         print('Test_loss: {:.4}'.format(np.sqrt(MSE_test_loss_curr)))\n",
    "#         print()\n",
    "    train_losses3.append(np.sqrt(MSE_train_loss_curr))\n",
    "    test_losses3.append(np.sqrt(MSE_test_loss_curr))\n",
    "    \n",
    "#%% Final Loss\n",
    "t3=time.time()    \n",
    "Z_mb = sample_Z(Test_No, Dim) \n",
    "M_mb = testM\n",
    "X_mb = testX\n",
    "        \n",
    "New_X_mb = M_mb * X_mb + (1-M_mb) * Z_mb  # Missing Data Introduce\n",
    "    \n",
    "MSE_final, Sample = sess.run([MSE_test_loss, G_sample], feed_dict = {X: testX, M: testM, New_X: New_X_mb})\n",
    "        \n",
    "print('Final Test RMSE: ' + str(np.sqrt(MSE_final)))\n",
    "print(\"Time cost: \",t3-t2)"
   ]
  },
  {
   "cell_type": "code",
   "execution_count": 40,
   "metadata": {},
   "outputs": [
    {
     "data": {
      "image/png": "[encoded data removed]",
      "text/plain": [
       "<Figure size 432x288 with 1 Axes>"
      ]
     },
     "metadata": {},
     "output_type": "display_data"
    }
   ],
   "source": [
    "# Plot training curve\n",
    "plt.plot(train_losses3, 'b.', label=\"Training Loss\", alpha=0.5)\n",
    "plt.plot(test_losses3, 'g.', label=\"Test Loss\", alpha=0.5)\n",
    "plt.title(\"Training GAIN3 on the Third Subset through weight sharing\")\n",
    "plt.xlabel(\"Number of Mini-Batches\")\n",
    "plt.ylabel(\"RMSE\")\n",
    "plt.ylim(0.09,0.35)\n",
    "plt.legend()\n",
    "plt.savefig(\"GAIN_subset3.png\")\n",
    "plt.show()"
   ]
  },
  {
   "cell_type": "markdown",
   "metadata": {},
   "source": [
    "## GAIN4"
   ]
  },
  {
   "cell_type": "code",
   "execution_count": 41,
   "metadata": {},
   "outputs": [],
   "source": [
    "# Store trained weights and biases\n",
    "D3_W1_values = sess.run(D3_W1)\n",
    "D3_b1_values = sess.run(D3_b1)\n",
    "D3_W21_values = sess.run(D3_W21)\n",
    "D3_W22_values = sess.run(D3_W22)\n",
    "D3_W23_values = sess.run(D3_W23)\n",
    "D3_b21_values = sess.run(D3_b21)\n",
    "D3_b22_values = sess.run(D3_b22)\n",
    "D3_b23_values = sess.run(D3_b23)\n",
    "D3_W31_values = sess.run(D3_W31)\n",
    "D3_W32_values = sess.run(D3_W32)\n",
    "D3_W33_values = sess.run(D3_W33)\n",
    "D3_b3_values = sess.run(D3_b3)\n",
    "\n",
    "G3_W1_values = sess.run(G3_W1)\n",
    "G3_b1_values = sess.run(G3_b1)\n",
    "G3_W21_values = sess.run(G3_W21)\n",
    "G3_W22_values = sess.run(G3_W22)\n",
    "G3_W23_values = sess.run(G3_W23)\n",
    "G3_b21_values = sess.run(G3_b21)\n",
    "G3_b22_values = sess.run(G3_b22)\n",
    "G3_b23_values = sess.run(G3_b23)\n",
    "G3_W31_values = sess.run(G3_W31)\n",
    "G3_W32_values = sess.run(G3_W32)\n",
    "G3_W33_values = sess.run(G3_W33)\n",
    "G3_b3_values = sess.run(G3_b3)"
   ]
  },
  {
   "cell_type": "code",
   "execution_count": 42,
   "metadata": {},
   "outputs": [],
   "source": [
    "tf.reset_default_graph()\n",
    "Data = subsets[3]"
   ]
  },
  {
   "cell_type": "code",
   "execution_count": 43,
   "metadata": {},
   "outputs": [],
   "source": [
    "# Normalization (0 to 1)\n",
    "Min_Val = np.zeros(Dim)\n",
    "Max_Val = np.zeros(Dim)\n",
    "\n",
    "for i in range(Dim):\n",
    "    Min_Val[i] = np.min(Data[:,i])\n",
    "    Data[:,i] = Data[:,i] - np.min(Data[:,i])\n",
    "    Max_Val[i] = np.max(Data[:,i])\n",
    "    Data[:,i] = Data[:,i] / (np.max(Data[:,i]) + 1e-6)    \n",
    "\n",
    "#%% Missing introducing\n",
    "p_miss_vec = p_miss * np.ones((Dim,1)) \n",
    "   \n",
    "Missing = np.zeros((No,Dim))\n",
    "\n",
    "for i in range(Dim):\n",
    "    A = np.random.uniform(0., 1., size = [len(Data),])\n",
    "    B = A > p_miss_vec[i]\n",
    "    Missing[:,i] = 1.*B"
   ]
  },
  {
   "cell_type": "code",
   "execution_count": 44,
   "metadata": {},
   "outputs": [],
   "source": [
    "#%% Train Test Division    \n",
    "   \n",
    "idx = np.random.permutation(No)\n",
    "\n",
    "Train_No = int(No * train_rate)\n",
    "Test_No = No - Train_No\n",
    "    \n",
    "# Train / Test Features\n",
    "trainX = Data[idx[:Train_No],:]\n",
    "testX = Data[idx[Train_No:],:]\n",
    "\n",
    "# Train / Test Missing Indicators\n",
    "trainM = Missing[idx[:Train_No],:]\n",
    "testM = Missing[idx[Train_No:],:]"
   ]
  },
  {
   "cell_type": "code",
   "execution_count": 45,
   "metadata": {},
   "outputs": [],
   "source": [
    "#%% GAIN Architecture   \n",
    "   \n",
    "#%% 1. Input Placeholders\n",
    "# 1.1. Data Vector\n",
    "X = tf.placeholder(tf.float32, shape = [None, Dim])\n",
    "# 1.2. Mask Vector \n",
    "M = tf.placeholder(tf.float32, shape = [None, Dim])\n",
    "# 1.3. Hint vector\n",
    "H = tf.placeholder(tf.float32, shape = [None, Dim])\n",
    "# 1.4. X with missing values\n",
    "New_X = tf.placeholder(tf.float32, shape = [None, Dim])"
   ]
  },
  {
   "cell_type": "code",
   "execution_count": 46,
   "metadata": {},
   "outputs": [],
   "source": [
    "#Discriminator weights and biases\n",
    "D4_W1_np=D3_W1_values.astype('float32')\n",
    "D4_b1_np=D3_b1_values.astype('float32')\n",
    "D4_W2_np1=D3_W21_values.astype('float32')\n",
    "D4_W2_np2=D3_W22_values.astype('float32')\n",
    "D4_W2_np3=D3_W23_values.astype('float32')\n",
    "#D4_W2_np4=np.concatenate((c,c1,c2),axis=1).astype('float32')\n",
    "D4_b2_np1=D3_b21_values.astype('float32')\n",
    "D4_b2_np2=D3_b22_values.astype('float32')\n",
    "D4_b2_np3=D3_b23_values.astype('float32')\n",
    "#D4_b2_np4=np.concatenate((b1,b2,b3),axis=0).astype('float32')\n",
    "D4_W3_np1=D3_W31_values.astype('float32')\n",
    "D4_W3_np2=D3_W32_values.astype('float32')\n",
    "D4_W3_np3=D3_W33_values.astype('float32')\n",
    "#D4_W3_np4=np.concatenate((a1,a2,a3),axis=0).astype('float32')\n",
    "D4_b3_np=D3_b3_values.astype('float32') \n",
    "\n",
    "#Generator weights and biases\n",
    "G4_W1_np=G3_W1_values.astype('float32')\n",
    "G4_b1_np=G3_b1_values.astype('float32')\n",
    "G4_W2_np1=G3_W21_values.astype('float32')\n",
    "G4_W2_np2=G3_W22_values.astype('float32')\n",
    "G4_W2_np3=G3_W23_values.astype('float32')\n",
    "#G4_W2_np4=np.concatenate((c3,c4,c5),axis=1).astype('float32')\n",
    "G4_b2_np1=G3_b21_values.astype('float32')\n",
    "G4_b2_np2=G3_b22_values.astype('float32')\n",
    "G4_b2_np3=G3_b23_values.astype('float32')\n",
    "#G4_b2_np4=np.concatenate((b5,b6,b7),axis=0).astype('float32')\n",
    "G4_W3_np1=G3_W31_values.astype('float32')\n",
    "G4_W3_np2=G3_W32_values.astype('float32')\n",
    "G4_W3_np3=G3_W33_values.astype('float32')\n",
    "#G4_W3_np4=np.concatenate((a5,a6,a7),axis=0).astype('float32')\n",
    "G4_b3_np=G3_b3_values.astype('float32')"
   ]
  },
  {
   "cell_type": "code",
   "execution_count": 47,
   "metadata": {},
   "outputs": [],
   "source": [
    "G4_W1=tf.get_variable(\"G4_W1\", initializer=G4_W1_np)\n",
    "G4_b1 =tf.get_variable(\"G4_b1\", initializer=G4_b1_np)\n",
    "\n",
    "G4_W21=tf.get_variable(\"G4_W21\", initializer=G4_W2_np1)\n",
    "G4_W22=tf.get_variable(\"G4_W22\", initializer=G4_W2_np2)\n",
    "G4_W23=tf.get_variable(\"G4_W23\", initializer=G4_W2_np3)\n",
    "G4_W24=tf.Variable(xavier_init([13, 5]), name=\"G4_W24\")\n",
    "G4_b21=tf.get_variable(\"G4_b21\", initializer=G4_b2_np1)\n",
    "G4_b22=tf.get_variable(\"G4_b22\", initializer=G4_b2_np2)\n",
    "G4_b23=tf.get_variable(\"G4_b23\", initializer=G4_b2_np3)\n",
    "G4_b24=tf.Variable(xavier_init([1, 5]), name=\"G4_b24\")\n",
    "\n",
    "\n",
    "G4_W31=tf.get_variable(\"G4_W31\", initializer=G4_W3_np1)\n",
    "G4_W32=tf.get_variable(\"G4_W32\", initializer=G4_W3_np2)\n",
    "G4_W33=tf.get_variable(\"G4_W33\", initializer=G4_W3_np3)\n",
    "G4_W34=tf.Variable(xavier_init([5, 13]), name=\"G4_W34\")\n",
    "G4_b3=tf.get_variable(\"G4_b3\", initializer=G4_b3_np)\n",
    "\n",
    "theta_G4 = [G4_W24, G4_W34, G4_b24]\n",
    "#theta_G4 = [G4_W1,G4_W21,G4_W22,G4_W23,G4_W24,G4_W31,G4_W32, G4_W33,G4_W34,G4_b1,G4_b21,G4_b22, G4_b23,G4_b24,G4_b3]"
   ]
  },
  {
   "cell_type": "code",
   "execution_count": 48,
   "metadata": {},
   "outputs": [],
   "source": [
    "D4_W1 = tf.get_variable(\"D4_W1\", initializer=D4_W1_np)\n",
    "D4_b1 =tf.get_variable(\"D4_b1\", initializer=D4_b1_np)\n",
    "\n",
    "D4_W21=tf.get_variable(\"D4_W21\", initializer=D4_W2_np1)\n",
    "D4_W22=tf.get_variable(\"D4_W22\", initializer=D4_W2_np2)\n",
    "D4_W23=tf.get_variable(\"D4_W23\", initializer=D4_W2_np3)\n",
    "D4_W24=tf.Variable(xavier_init([13, 5]), name=\"D4_W24\")\n",
    "D4_b21=tf.get_variable(\"D4_b21\", initializer=D4_b2_np1)\n",
    "D4_b22=tf.get_variable(\"D4_b22\", initializer=D4_b2_np2)\n",
    "D4_b23=tf.get_variable(\"D4_b23\", initializer=D4_b2_np3)\n",
    "D4_b24=tf.Variable(xavier_init([1, 5]), name=\"D4_b24\")\n",
    "\n",
    "D4_W31=tf.get_variable(\"D4_W31\", initializer=D4_W3_np1)\n",
    "D4_W32=tf.get_variable(\"D4_W32\", initializer=D4_W3_np2)\n",
    "D4_W33=tf.get_variable(\"D4_W33\", initializer=D4_W3_np3)\n",
    "D4_W34=tf.Variable(xavier_init([5, 13]), name=\"D4_W34\")\n",
    "D4_b3=tf.get_variable(\"D3_b3\", initializer=D3_b3_np)\n",
    "theta_D4 = [ D4_W24, D4_W34, D4_b24]\n",
    "#theta_D4 = [D4_W1,D4_W21,D4_W22,D4_W23,D4_W24,D4_W31,D4_W32, D4_W33,D4_W34,D4_b1,D4_b21,D4_b22, D4_b23,D4_b24,D4_b3]"
   ]
  },
  {
   "cell_type": "code",
   "execution_count": 49,
   "metadata": {},
   "outputs": [],
   "source": [
    "#%% 1. Generator\n",
    "def generator(new_x,m):\n",
    "    inputs = tf.concat(axis = 1, values = [new_x,m])  # Mask + Data Concatenate\n",
    "    G4_h1 = tf.nn.relu(tf.matmul(inputs, G4_W1) + G4_b1)\n",
    "    G4_h2 = tf.nn.relu(tf.concat([(tf.matmul(G4_h1, G4_W21) + G4_b21),(tf.matmul(G4_h1, G4_W22) + G4_b22),\n",
    "                                 (tf.matmul(G4_h1, G4_W23) + G4_b23),(tf.matmul(G4_h1, G4_W24) + G4_b24)],1))   \n",
    "    G_prob = tf.nn.sigmoid(tf.matmul(G4_h2,tf.concat((G4_W31,G4_W32,G4_W33,G4_W34),0)) + G4_b3) # [0,1] normalized Output\n",
    "    \n",
    "    return G_prob\n",
    "    \n",
    "#%% 2. Discriminator\n",
    "def discriminator(new_x, h):\n",
    "    inputs = tf.concat(axis = 1, values = [new_x,h])  # Hint + Data Concatenate\n",
    "    D4_h1 = tf.nn.relu(tf.matmul(inputs, D4_W1) + D4_b1)  \n",
    "    D4_h2 = tf.nn.relu(tf.concat([(tf.matmul(D4_h1, D4_W21) + D4_b21),(tf.matmul(D4_h1, D4_W22) + D4_b22),\n",
    "                                 (tf.matmul(D4_h1, D4_W23) + D4_b23),(tf.matmul(D4_h1, D4_W24) + D4_b24)],1)) \n",
    "    D4_logit = tf.matmul(D4_h2, tf.concat((D4_W31,D4_W32,D4_W33,D4_W34),0)) + D4_b3\n",
    "    D_prob = tf.nn.sigmoid(D4_logit)  # [0,1] Probability Output\n",
    "    \n",
    "    return D_prob"
   ]
  },
  {
   "cell_type": "code",
   "execution_count": 50,
   "metadata": {},
   "outputs": [],
   "source": [
    "#%% Structure\n",
    "# Generator\n",
    "G_sample = generator(New_X,M)\n",
    "#print(\"G_sample\",G_sample)\n",
    "# Combine with original data\n",
    "Hat_New_X = New_X * M + G_sample * (1-M)\n",
    "\n",
    "# Discriminator\n",
    "D_prob = discriminator(Hat_New_X, H)\n",
    "#print(\"D_prob\",D_prob)\n",
    "#%% Loss\n",
    "D_loss1 = -tf.reduce_mean(M * tf.log(D_prob + 1e-8) + (1-M) * tf.log(1. - D_prob + 1e-8)) \n",
    "G_loss1 = -tf.reduce_mean((1-M) * tf.log(D_prob + 1e-8))\n",
    "MSE_train_loss = tf.reduce_mean((M * New_X - M * G_sample)**2) / tf.reduce_mean(M)\n",
    "\n",
    "D_loss = D_loss1\n",
    "G_loss = G_loss1 + alpha * MSE_train_loss \n",
    "\n",
    "#%% MSE Performance metric\n",
    "MSE_test_loss = tf.reduce_mean(((1-M) * X - (1-M)*G_sample)**2) / tf.reduce_mean(1-M)\n",
    "\n",
    "#%% Solver\n",
    "D_solver = tf.train.AdamOptimizer().minimize(D_loss, var_list=theta_D4)\n",
    "G_solver = tf.train.AdamOptimizer().minimize(G_loss, var_list=theta_G4)"
   ]
  },
  {
   "cell_type": "code",
   "execution_count": 51,
   "metadata": {},
   "outputs": [
    {
     "name": "stderr",
     "output_type": "stream",
     "text": [
      "100%|█████████████████████████████████████████████████████████████████████████████| 1000/1000 [00:02<00:00, 398.53it/s]\n"
     ]
    },
    {
     "name": "stdout",
     "output_type": "stream",
     "text": [
      "Final Test RMSE: 0.19753978\n",
      "Time cost:  2.512145757675171\n"
     ]
    }
   ],
   "source": [
    "# Sessions\n",
    "sess = tf.Session()\n",
    "sess.run(tf.global_variables_initializer())\n",
    "\n",
    "#%% Iterations\n",
    "train_losses4 = []\n",
    "test_losses4 = []\n",
    "t4=time.time()\n",
    "#%% Start Iterations\n",
    "for it in tqdm(range(1000)):    \n",
    "    \n",
    "    #%% Inputs\n",
    "    mb_idx = sample_idx(Train_No, mb_size)\n",
    "    X_mb = trainX[mb_idx,:]  \n",
    "    \n",
    "    Z_mb = sample_Z(mb_size, Dim) \n",
    "#     M_mb = trainM[mb_idx,:]  \n",
    "    M_mb = trainM[:mb_size, :]\n",
    "    H_mb1 = sample_M(mb_size, Dim, 1-p_hint)\n",
    "    H_mb = M_mb * H_mb1\n",
    "    \n",
    "    New_X_mb = M_mb * X_mb + (1-M_mb) * Z_mb  # Missing Data Introduce\n",
    "    \n",
    "    _, D_loss_curr = sess.run([D_solver, D_loss1], feed_dict = {M: M_mb, New_X: New_X_mb, H: H_mb})\n",
    "    _, G_loss_curr, MSE_train_loss_curr, MSE_test_loss_curr = sess.run([G_solver, G_loss1, MSE_train_loss, MSE_test_loss],\n",
    "                                                                       feed_dict = {X: X_mb, M: M_mb, New_X: New_X_mb, H: H_mb})\n",
    "            \n",
    "        \n",
    "    #%% Intermediate Losses\n",
    "#     if it % 100 == 0:\n",
    "#         print('Iter: {}'.format(it))\n",
    "#         print('Train_loss: {:.4}'.format(np.sqrt(MSE_train_loss_curr)))\n",
    "#         print('Test_loss: {:.4}'.format(np.sqrt(MSE_test_loss_curr)))\n",
    "#         print()\n",
    "    train_losses4.append(np.sqrt(MSE_train_loss_curr))\n",
    "    test_losses4.append(np.sqrt(MSE_test_loss_curr))\n",
    "    \n",
    "#%% Final Loss\n",
    "t5=time.time()    \n",
    "Z_mb = sample_Z(Test_No, Dim) \n",
    "M_mb = testM\n",
    "X_mb = testX\n",
    "        \n",
    "New_X_mb = M_mb * X_mb + (1-M_mb) * Z_mb  # Missing Data Introduce\n",
    "    \n",
    "MSE_final, Sample = sess.run([MSE_test_loss, G_sample], feed_dict = {X: testX, M: testM, New_X: New_X_mb})\n",
    "        \n",
    "print('Final Test RMSE: ' + str(np.sqrt(MSE_final)))\n",
    "print(\"Time cost: \",t5-t4)\n",
    "sess.close()"
   ]
  },
  {
   "cell_type": "code",
   "execution_count": 52,
   "metadata": {},
   "outputs": [
    {
     "data": {
      "image/png": "[encoded data removed]",
      "text/plain": [
       "<Figure size 432x288 with 1 Axes>"
      ]
     },
     "metadata": {},
     "output_type": "display_data"
    }
   ],
   "source": [
    "# Plot training curve\n",
    "plt.plot(train_losses4, 'b.', label=\"Training Loss\", alpha=0.5)\n",
    "plt.plot(test_losses4, 'g.', label=\"Test Loss\", alpha=0.5)\n",
    "plt.title(\"Training GAIN4 on the Forth Subset through weight sharing\")\n",
    "plt.xlabel(\"Number of Mini-Batches\")\n",
    "plt.ylabel(\"RMSE\")\n",
    "plt.ylim(0.09,0.35)\n",
    "plt.legend()\n",
    "plt.savefig(\"GAIN_subset4.png\")\n",
    "plt.show()"
   ]
  },
  {
   "cell_type": "code",
   "execution_count": null,
   "metadata": {},
   "outputs": [],
   "source": []
  }
 ],
 "metadata": {
  "kernelspec": {
   "display_name": "Python 3",
   "language": "python",
   "name": "python3"
  },
  "language_info": {
   "codemirror_mode": {
    "name": "ipython",
    "version": 3
   },
   "file_extension": ".py",
   "mimetype": "text/x-python",
   "name": "python",
   "nbconvert_exporter": "python",
   "pygments_lexer": "ipython3",
   "version": "3.6.4rc1"
  }
 },
 "nbformat": 4,
 "nbformat_minor": 2
}
