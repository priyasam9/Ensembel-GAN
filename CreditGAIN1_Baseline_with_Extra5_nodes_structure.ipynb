{
 "cells": [
  {
   "cell_type": "code",
   "execution_count": 10,
   "metadata": {},
   "outputs": [],
   "source": [
    "import tensorflow as tf\n",
    "import numpy as np\n",
    "from tqdm import tqdm\n",
    "import matplotlib\n",
    "import matplotlib.pyplot as plt\n",
    "%matplotlib inline"
   ]
  },
  {
   "cell_type": "code",
   "execution_count": 11,
   "metadata": {},
   "outputs": [],
   "source": [
    "# Data generation\n",
    "raw_data = np.loadtxt(\"https://raw.githubusercontent.com/priyasam9/Ensembel-GAN/master/Credit_Card.csv\", delimiter=\",\",skiprows=1)"
   ]
  },
  {
   "cell_type": "code",
   "execution_count": 12,
   "metadata": {},
   "outputs": [
    {
     "name": "stdout",
     "output_type": "stream",
     "text": [
      "Split data into 4 subsets. Size of one subset: 7500\n"
     ]
    }
   ],
   "source": [
    "# Split Data into four pieces\n",
    "full_size = len(raw_data)\n",
    "n_subsets = 4\n",
    "sub_size = full_size // n_subsets\n",
    "\n",
    "subsets = []\n",
    "for k in range(4):\n",
    "    subsets.append(raw_data[k*sub_size:(k+1)*sub_size, k:k+21])\n",
    "    \n",
    "print(\"Split data into\", n_subsets, \"subsets. Size of one subset:\", sub_size)"
   ]
  },
  {
   "cell_type": "code",
   "execution_count": 13,
   "metadata": {},
   "outputs": [],
   "source": [
    "# Apply GAIN on the first dataset\n",
    "Data = subsets[3]\n",
    "# Data = raw_data"
   ]
  },
  {
   "cell_type": "code",
   "execution_count": 14,
   "metadata": {},
   "outputs": [
    {
     "name": "stdout",
     "output_type": "stream",
     "text": [
      "21\n"
     ]
    }
   ],
   "source": [
    "#%% System Parameters\n",
    "# 1. Mini batch size\n",
    "mb_size = 128\n",
    "# 2. Missing rate\n",
    "p_miss = 0.2\n",
    "# 3. Hint rate\n",
    "p_hint = 0.9\n",
    "# 4. Loss Hyperparameters\n",
    "alpha = 10\n",
    "# 5. Train Rate\n",
    "train_rate = 0.8\n",
    "\n",
    "# Parameters\n",
    "No = len(Data)\n",
    "Dim = len(Data[0,:])\n",
    "\n",
    "# Hidden state dimensions\n",
    "H_Dim1 = Dim\n",
    "H_Dim2 = Dim\n",
    "\n",
    "print(Dim)"
   ]
  },
  {
   "cell_type": "code",
   "execution_count": 15,
   "metadata": {},
   "outputs": [],
   "source": [
    "# Normalization (0 to 1)\n",
    "Min_Val = np.zeros(Dim)\n",
    "Max_Val = np.zeros(Dim)\n",
    "\n",
    "for i in range(Dim):\n",
    "    Min_Val[i] = np.min(Data[:,i])\n",
    "    Data[:,i] = Data[:,i] - np.min(Data[:,i])\n",
    "    Max_Val[i] = np.max(Data[:,i])\n",
    "    Data[:,i] = Data[:,i] / (np.max(Data[:,i]) + 1e-6)    \n",
    "\n",
    "#%% Missing introducing\n",
    "p_miss_vec = p_miss * np.ones((Dim,1)) \n",
    "   \n",
    "Missing = np.zeros((No,Dim))\n",
    "\n",
    "for i in range(Dim):\n",
    "    A = np.random.uniform(0., 1., size = [len(Data),])\n",
    "    B = A > p_miss_vec[i]\n",
    "    Missing[:,i] = 1.*B"
   ]
  },
  {
   "cell_type": "code",
   "execution_count": 16,
   "metadata": {},
   "outputs": [],
   "source": [
    "#%% Train Test Division    \n",
    "   \n",
    "idx = np.random.permutation(No)\n",
    "\n",
    "Train_No = int(No * train_rate)\n",
    "Test_No = No - Train_No\n",
    "    \n",
    "# Train / Test Features\n",
    "trainX = Data[idx[:Train_No],:]\n",
    "testX = Data[idx[Train_No:],:]\n",
    "\n",
    "# Train / Test Missing Indicators\n",
    "trainM = Missing[idx[:Train_No],:]\n",
    "testM = Missing[idx[Train_No:],:]"
   ]
  },
  {
   "cell_type": "code",
   "execution_count": 17,
   "metadata": {},
   "outputs": [],
   "source": [
    "#%% Necessary Functions\n",
    "\n",
    "# 1. Xavier Initialization Definition\n",
    "def xavier_init(size):\n",
    "    in_dim = size[0]\n",
    "    xavier_stddev = 1. / tf.sqrt(in_dim / 2.)\n",
    "    return tf.random_normal(shape = size, stddev = xavier_stddev)\n",
    "    \n",
    "# Hint Vector Generation\n",
    "def sample_M(m, n, p):\n",
    "    A = np.random.uniform(0., 1., size = [m, n])\n",
    "    B = A > p\n",
    "    C = 1.*B\n",
    "    return C"
   ]
  },
  {
   "cell_type": "markdown",
   "metadata": {},
   "source": [
    "## GAIN Model\n",
    "- Generator\n",
    "- Discriminator\n",
    "- Hint Mechanism"
   ]
  },
  {
   "cell_type": "code",
   "execution_count": 18,
   "metadata": {},
   "outputs": [],
   "source": [
    "#%% GAIN Architecture   \n",
    "   \n",
    "#%% 1. Input Placeholders\n",
    "# 1.1. Data Vector\n",
    "X = tf.placeholder(tf.float32, shape = [None, Dim])\n",
    "# 1.2. Mask Vector \n",
    "M = tf.placeholder(tf.float32, shape = [None, Dim])\n",
    "# 1.3. Hint vector\n",
    "H = tf.placeholder(tf.float32, shape = [None, Dim])\n",
    "# 1.4. X with missing values\n",
    "New_X = tf.placeholder(tf.float32, shape = [None, Dim])"
   ]
  },
  {
   "cell_type": "code",
   "execution_count": 19,
   "metadata": {},
   "outputs": [],
   "source": [
    "#%% 2. Discriminator\n",
    "D_W1 = tf.Variable(xavier_init([Dim*2, H_Dim1]), name=\"D_W1\")     # Data + Hint as inputs\n",
    "D_b1 = tf.Variable(tf.zeros(shape = [H_Dim1]), name=\"D_b1\")\n",
    "\n",
    "#D_W2 = tf.Variable(xavier_init([H_Dim1, H_Dim2]), name=\"D_W2\")\n",
    "D_W2 = tf.Variable(xavier_init([21, 36]), name=\"D_W2\")\n",
    "#D_b2 = tf.Variable(tf.zeros(shape = [H_Dim2]), name=\"D_b2\")\n",
    "D_b2 = tf.Variable(tf.zeros(shape = [36]), name=\"D_b2\")\n",
    "\n",
    "#D_W3 = tf.Variable(xavier_init([H_Dim2, Dim]), name=\"D_W3\")\n",
    "D_W3 = tf.Variable(xavier_init([36, Dim]), name=\"D_W3\")\n",
    "D_b3 = tf.Variable(tf.zeros(shape = [Dim]), name=\"D_b3\")       # Output is multi-variate\n",
    "\n",
    "theta_D = [D_W1, D_W2, D_W3, D_b1, D_b2, D_b3]"
   ]
  },
  {
   "cell_type": "code",
   "execution_count": 20,
   "metadata": {},
   "outputs": [],
   "source": [
    "#%% 3. Generator\n",
    "G_W1 = tf.Variable(xavier_init([Dim*2, H_Dim1]), name=\"G_W1\")     # Data + Mask as inputs (Random Noises are in Missing Components)\n",
    "G_b1 = tf.Variable(tf.zeros(shape = [H_Dim1]), name=\"G_b1\")\n",
    "\n",
    "#G_W2 = tf.Variable(xavier_init([H_Dim1, H_Dim2]), name=\"G_W2\")\n",
    "G_W2 = tf.Variable(xavier_init([21, 36]), name=\"G_W2\")\n",
    "#G_b2 = tf.Variable(tf.zeros(shape = [H_Dim2]), name=\"G_b2\")\n",
    "G_b2 = tf.Variable(tf.zeros(shape = [36]), name=\"G_b2\")\n",
    "\n",
    "#G_W3 = tf.Variable(xavier_init([H_Dim2, Dim]), name=\"G_W3\")\n",
    "G_W3 = tf.Variable(xavier_init([36, Dim]), name=\"G_W3\")\n",
    "G_b3 = tf.Variable(tf.zeros(shape = [Dim]), name=\"G_b3\")\n",
    "\n",
    "theta_G = [G_W1, G_W2, G_W3, G_b1, G_b2, G_b3]"
   ]
  },
  {
   "cell_type": "code",
   "execution_count": 21,
   "metadata": {},
   "outputs": [],
   "source": [
    "#%% GAIN Function\n",
    "\n",
    "#%% 1. Generator\n",
    "def generator(new_x,m):\n",
    "    inputs = tf.concat(axis = 1, values = [new_x,m])  # Mask + Data Concatenate\n",
    "    G_h1 = tf.nn.relu(tf.matmul(inputs, G_W1) + G_b1)\n",
    "    G_h2 = tf.nn.relu(tf.matmul(G_h1, G_W2) + G_b2)   \n",
    "    G_prob = tf.nn.sigmoid(tf.matmul(G_h2, G_W3) + G_b3) # [0,1] normalized Output\n",
    "    \n",
    "    return G_prob\n",
    "    \n",
    "#%% 2. Discriminator\n",
    "def discriminator(new_x, h):\n",
    "    inputs = tf.concat(axis = 1, values = [new_x,h])  # Hint + Data Concatenate\n",
    "    D_h1 = tf.nn.relu(tf.matmul(inputs, D_W1) + D_b1)  \n",
    "    D_h2 = tf.nn.relu(tf.matmul(D_h1, D_W2) + D_b2)\n",
    "    D_logit = tf.matmul(D_h2, D_W3) + D_b3\n",
    "    D_prob = tf.nn.sigmoid(D_logit)  # [0,1] Probability Output\n",
    "    \n",
    "    return D_prob"
   ]
  },
  {
   "cell_type": "code",
   "execution_count": 22,
   "metadata": {},
   "outputs": [],
   "source": [
    "#%% 3. Other functions\n",
    "# Random sample generator for Z\n",
    "def sample_Z(m, n):\n",
    "    return np.random.uniform(0., 0.01, size = [m, n])        \n",
    "\n",
    "# Mini-batch generation\n",
    "def sample_idx(m, n):\n",
    "    A = np.random.permutation(m)\n",
    "    idx = A[:n]\n",
    "    return idx"
   ]
  },
  {
   "cell_type": "code",
   "execution_count": 23,
   "metadata": {},
   "outputs": [],
   "source": [
    "#%% Structure\n",
    "# Generator\n",
    "G_sample = generator(New_X,M)\n",
    "\n",
    "# Combine with original data\n",
    "Hat_New_X = New_X * M + G_sample * (1-M)\n",
    "\n",
    "# Discriminator\n",
    "D_prob = discriminator(Hat_New_X, H)\n",
    "\n",
    "#%% Loss\n",
    "D_loss1 = -tf.reduce_mean(M * tf.log(D_prob + 1e-8) + (1-M) * tf.log(1. - D_prob + 1e-8)) \n",
    "G_loss1 = -tf.reduce_mean((1-M) * tf.log(D_prob + 1e-8))\n",
    "MSE_train_loss = tf.reduce_mean((M * New_X - M * G_sample)**2) / tf.reduce_mean(M)\n",
    "\n",
    "D_loss = D_loss1\n",
    "G_loss = G_loss1 + alpha * MSE_train_loss \n",
    "\n",
    "#%% MSE Performance metric\n",
    "MSE_test_loss = tf.reduce_mean(((1-M) * X - (1-M)*G_sample)**2) / tf.reduce_mean(1-M)\n",
    "\n",
    "#%% Solver\n",
    "D_solver = tf.train.AdamOptimizer().minimize(D_loss, var_list=theta_D)\n",
    "G_solver = tf.train.AdamOptimizer().minimize(G_loss, var_list=theta_G)"
   ]
  },
  {
   "cell_type": "code",
   "execution_count": 24,
   "metadata": {},
   "outputs": [
    {
     "name": "stderr",
     "output_type": "stream",
     "text": [
      "100%|█████████████████████████████████████████████████████████████████████████████| 1000/1000 [00:02<00:00, 395.24it/s]\n"
     ]
    },
    {
     "name": "stdout",
     "output_type": "stream",
     "text": [
      "Final Test RMSE: 0.13460678\n",
      "Time cost:  2.532102584838867\n"
     ]
    }
   ],
   "source": [
    "# Sessions\n",
    "import time\n",
    "sess1 = tf.Session()\n",
    "sess1.run(tf.global_variables_initializer())\n",
    "\n",
    "#%% Iterations\n",
    "train_losses = []\n",
    "test_losses = []\n",
    "\n",
    "#%% Start Iterations\n",
    "t=time.time()\n",
    "for it in tqdm(range(1000)):    \n",
    "    \n",
    "    #%% Inputs\n",
    "    mb_idx = sample_idx(Train_No, mb_size)\n",
    "    X_mb = trainX[mb_idx,:]  \n",
    "    \n",
    "    Z_mb = sample_Z(mb_size, Dim) \n",
    "#     M_mb = trainM[mb_idx,:]  \n",
    "    M_mb = trainM[:mb_size, :]\n",
    "    H_mb1 = sample_M(mb_size, Dim, 1-p_hint)\n",
    "    H_mb = M_mb * H_mb1\n",
    "    \n",
    "    New_X_mb = M_mb * X_mb + (1-M_mb) * Z_mb  # Missing Data Introduce\n",
    "    \n",
    "    _, D_loss_curr = sess1.run([D_solver, D_loss1], feed_dict = {M: M_mb, New_X: New_X_mb, H: H_mb})\n",
    "    _, G_loss_curr, MSE_train_loss_curr, MSE_test_loss_curr = sess1.run([G_solver, G_loss1, MSE_train_loss, MSE_test_loss],\n",
    "                                                                       feed_dict = {X: X_mb, M: M_mb, New_X: New_X_mb, H: H_mb})\n",
    "            \n",
    "        \n",
    "    #%% Intermediate Losses\n",
    "#     if it % 100 == 0:\n",
    "#         print('Iter: {}'.format(it))\n",
    "#         print('Train_loss: {:.4}'.format(np.sqrt(MSE_train_loss_curr)))\n",
    "#         print('Test_loss: {:.4}'.format(np.sqrt(MSE_test_loss_curr)))\n",
    "#         print()\n",
    "    train_losses.append(np.sqrt(MSE_train_loss_curr))\n",
    "    test_losses.append(np.sqrt(MSE_test_loss_curr))\n",
    "    \n",
    "#%% Final Loss\n",
    "t_final=time.time()    \n",
    "Z_mb = sample_Z(Test_No, Dim) \n",
    "M_mb = testM\n",
    "X_mb = testX\n",
    "        \n",
    "New_X_mb = M_mb * X_mb + (1-M_mb) * Z_mb  # Missing Data Introduce\n",
    "    \n",
    "MSE_final, Sample = sess1.run([MSE_test_loss, G_sample], feed_dict = {X: testX, M: testM, New_X: New_X_mb})\n",
    "        \n",
    "print('Final Test RMSE: ' + str(np.sqrt(MSE_final)))\n",
    "print('Time cost: ',t_final-t)\n",
    "sess1.close()"
   ]
  },
  {
   "cell_type": "code",
   "execution_count": 26,
   "metadata": {},
   "outputs": [
    {
     "data": {
      "image/png": "[encoded data removed]",
      "text/plain": [
       "<Figure size 432x288 with 1 Axes>"
      ]
     },
     "metadata": {},
     "output_type": "display_data"
    }
   ],
   "source": [
    "# Plot training curve\n",
    "plt.plot(train_losses, 'b.', label=\"Training Loss\", alpha=0.5)\n",
    "plt.plot(test_losses, 'g.', label=\"Test Loss\", alpha=0.5)\n",
    "plt.title(\"Training baseline GAIN from Scratch\")\n",
    "plt.xlabel(\"Number of Mini-Batches\")\n",
    "plt.ylabel(\"RMSE\")\n",
    "plt.ylim(0,0.5)\n",
    "plt.legend()\n",
    "plt.savefig(\"GAIN_Baseline.png\")\n",
    "plt.show()"
   ]
  },
  {
   "cell_type": "code",
   "execution_count": null,
   "metadata": {},
   "outputs": [],
   "source": []
  }
 ],
 "metadata": {
  "kernelspec": {
   "display_name": "Python 3",
   "language": "python",
   "name": "python3"
  },
  "language_info": {
   "codemirror_mode": {
    "name": "ipython",
    "version": 3
   },
   "file_extension": ".py",
   "mimetype": "text/x-python",
   "name": "python",
   "nbconvert_exporter": "python",
   "pygments_lexer": "ipython3",
   "version": "3.6.4rc1"
  }
 },
 "nbformat": 4,
 "nbformat_minor": 2
}
